{
  "nbformat": 4,
  "nbformat_minor": 0,
  "metadata": {
    "colab": {
      "provenance": [],
      "toc_visible": true
    },
    "kernelspec": {
      "name": "python3",
      "display_name": "Python 3"
    },
    "language_info": {
      "name": "python"
    }
  },
  "cells": [
    {
      "cell_type": "code",
      "execution_count": null,
      "metadata": {
        "colab": {
          "base_uri": "https://localhost:8080/"
        },
        "id": "TvJjNySpJL0v",
        "outputId": "7d714769-3df1-491e-e882-03d60714fc08"
      },
      "outputs": [
        {
          "output_type": "stream",
          "name": "stdout",
          "text": [
            "Requirement already satisfied: google-generativeai in /usr/local/lib/python3.10/dist-packages (0.7.2)\n",
            "Requirement already satisfied: google-ai-generativelanguage==0.6.6 in /usr/local/lib/python3.10/dist-packages (from google-generativeai) (0.6.6)\n",
            "Requirement already satisfied: google-api-core in /usr/local/lib/python3.10/dist-packages (from google-generativeai) (2.19.1)\n",
            "Requirement already satisfied: google-api-python-client in /usr/local/lib/python3.10/dist-packages (from google-generativeai) (2.137.0)\n",
            "Requirement already satisfied: google-auth>=2.15.0 in /usr/local/lib/python3.10/dist-packages (from google-generativeai) (2.27.0)\n",
            "Requirement already satisfied: protobuf in /usr/local/lib/python3.10/dist-packages (from google-generativeai) (3.20.3)\n",
            "Requirement already satisfied: pydantic in /usr/local/lib/python3.10/dist-packages (from google-generativeai) (2.8.2)\n",
            "Requirement already satisfied: tqdm in /usr/local/lib/python3.10/dist-packages (from google-generativeai) (4.66.4)\n",
            "Requirement already satisfied: typing-extensions in /usr/local/lib/python3.10/dist-packages (from google-generativeai) (4.12.2)\n",
            "Requirement already satisfied: proto-plus<2.0.0dev,>=1.22.3 in /usr/local/lib/python3.10/dist-packages (from google-ai-generativelanguage==0.6.6->google-generativeai) (1.24.0)\n",
            "Requirement already satisfied: googleapis-common-protos<2.0.dev0,>=1.56.2 in /usr/local/lib/python3.10/dist-packages (from google-api-core->google-generativeai) (1.63.2)\n",
            "Requirement already satisfied: requests<3.0.0.dev0,>=2.18.0 in /usr/local/lib/python3.10/dist-packages (from google-api-core->google-generativeai) (2.31.0)\n",
            "Requirement already satisfied: cachetools<6.0,>=2.0.0 in /usr/local/lib/python3.10/dist-packages (from google-auth>=2.15.0->google-generativeai) (5.4.0)\n",
            "Requirement already satisfied: pyasn1-modules>=0.2.1 in /usr/local/lib/python3.10/dist-packages (from google-auth>=2.15.0->google-generativeai) (0.4.0)\n",
            "Requirement already satisfied: rsa<5,>=3.1.4 in /usr/local/lib/python3.10/dist-packages (from google-auth>=2.15.0->google-generativeai) (4.9)\n",
            "Requirement already satisfied: httplib2<1.dev0,>=0.19.0 in /usr/local/lib/python3.10/dist-packages (from google-api-python-client->google-generativeai) (0.22.0)\n",
            "Requirement already satisfied: google-auth-httplib2<1.0.0,>=0.2.0 in /usr/local/lib/python3.10/dist-packages (from google-api-python-client->google-generativeai) (0.2.0)\n",
            "Requirement already satisfied: uritemplate<5,>=3.0.1 in /usr/local/lib/python3.10/dist-packages (from google-api-python-client->google-generativeai) (4.1.1)\n",
            "Requirement already satisfied: annotated-types>=0.4.0 in /usr/local/lib/python3.10/dist-packages (from pydantic->google-generativeai) (0.7.0)\n",
            "Requirement already satisfied: pydantic-core==2.20.1 in /usr/local/lib/python3.10/dist-packages (from pydantic->google-generativeai) (2.20.1)\n",
            "Requirement already satisfied: grpcio<2.0dev,>=1.33.2 in /usr/local/lib/python3.10/dist-packages (from google-api-core[grpc]!=2.0.*,!=2.1.*,!=2.10.*,!=2.2.*,!=2.3.*,!=2.4.*,!=2.5.*,!=2.6.*,!=2.7.*,!=2.8.*,!=2.9.*,<3.0.0dev,>=1.34.1->google-ai-generativelanguage==0.6.6->google-generativeai) (1.64.1)\n",
            "Requirement already satisfied: grpcio-status<2.0.dev0,>=1.33.2 in /usr/local/lib/python3.10/dist-packages (from google-api-core[grpc]!=2.0.*,!=2.1.*,!=2.10.*,!=2.2.*,!=2.3.*,!=2.4.*,!=2.5.*,!=2.6.*,!=2.7.*,!=2.8.*,!=2.9.*,<3.0.0dev,>=1.34.1->google-ai-generativelanguage==0.6.6->google-generativeai) (1.48.2)\n",
            "Requirement already satisfied: pyparsing!=3.0.0,!=3.0.1,!=3.0.2,!=3.0.3,<4,>=2.4.2 in /usr/local/lib/python3.10/dist-packages (from httplib2<1.dev0,>=0.19.0->google-api-python-client->google-generativeai) (3.1.2)\n",
            "Requirement already satisfied: pyasn1<0.7.0,>=0.4.6 in /usr/local/lib/python3.10/dist-packages (from pyasn1-modules>=0.2.1->google-auth>=2.15.0->google-generativeai) (0.6.0)\n",
            "Requirement already satisfied: charset-normalizer<4,>=2 in /usr/local/lib/python3.10/dist-packages (from requests<3.0.0.dev0,>=2.18.0->google-api-core->google-generativeai) (3.3.2)\n",
            "Requirement already satisfied: idna<4,>=2.5 in /usr/local/lib/python3.10/dist-packages (from requests<3.0.0.dev0,>=2.18.0->google-api-core->google-generativeai) (3.7)\n",
            "Requirement already satisfied: urllib3<3,>=1.21.1 in /usr/local/lib/python3.10/dist-packages (from requests<3.0.0.dev0,>=2.18.0->google-api-core->google-generativeai) (2.0.7)\n",
            "Requirement already satisfied: certifi>=2017.4.17 in /usr/local/lib/python3.10/dist-packages (from requests<3.0.0.dev0,>=2.18.0->google-api-core->google-generativeai) (2024.7.4)\n",
            "Collecting langchain\n",
            "  Downloading langchain-0.2.11-py3-none-any.whl.metadata (7.1 kB)\n",
            "Requirement already satisfied: PyYAML>=5.3 in /usr/local/lib/python3.10/dist-packages (from langchain) (6.0.1)\n",
            "Requirement already satisfied: SQLAlchemy<3,>=1.4 in /usr/local/lib/python3.10/dist-packages (from langchain) (2.0.31)\n",
            "Requirement already satisfied: aiohttp<4.0.0,>=3.8.3 in /usr/local/lib/python3.10/dist-packages (from langchain) (3.9.5)\n",
            "Requirement already satisfied: async-timeout<5.0.0,>=4.0.0 in /usr/local/lib/python3.10/dist-packages (from langchain) (4.0.3)\n",
            "Collecting langchain-core<0.3.0,>=0.2.23 (from langchain)\n",
            "  Downloading langchain_core-0.2.23-py3-none-any.whl.metadata (6.2 kB)\n",
            "Collecting langchain-text-splitters<0.3.0,>=0.2.0 (from langchain)\n",
            "  Downloading langchain_text_splitters-0.2.2-py3-none-any.whl.metadata (2.1 kB)\n",
            "Collecting langsmith<0.2.0,>=0.1.17 (from langchain)\n",
            "  Downloading langsmith-0.1.93-py3-none-any.whl.metadata (13 kB)\n",
            "Requirement already satisfied: numpy<2,>=1 in /usr/local/lib/python3.10/dist-packages (from langchain) (1.25.2)\n",
            "Requirement already satisfied: pydantic<3,>=1 in /usr/local/lib/python3.10/dist-packages (from langchain) (2.8.2)\n",
            "Requirement already satisfied: requests<3,>=2 in /usr/local/lib/python3.10/dist-packages (from langchain) (2.31.0)\n",
            "Requirement already satisfied: tenacity!=8.4.0,<9.0.0,>=8.1.0 in /usr/local/lib/python3.10/dist-packages (from langchain) (8.5.0)\n",
            "Requirement already satisfied: aiosignal>=1.1.2 in /usr/local/lib/python3.10/dist-packages (from aiohttp<4.0.0,>=3.8.3->langchain) (1.3.1)\n",
            "Requirement already satisfied: attrs>=17.3.0 in /usr/local/lib/python3.10/dist-packages (from aiohttp<4.0.0,>=3.8.3->langchain) (23.2.0)\n",
            "Requirement already satisfied: frozenlist>=1.1.1 in /usr/local/lib/python3.10/dist-packages (from aiohttp<4.0.0,>=3.8.3->langchain) (1.4.1)\n",
            "Requirement already satisfied: multidict<7.0,>=4.5 in /usr/local/lib/python3.10/dist-packages (from aiohttp<4.0.0,>=3.8.3->langchain) (6.0.5)\n",
            "Requirement already satisfied: yarl<2.0,>=1.0 in /usr/local/lib/python3.10/dist-packages (from aiohttp<4.0.0,>=3.8.3->langchain) (1.9.4)\n",
            "Collecting jsonpatch<2.0,>=1.33 (from langchain-core<0.3.0,>=0.2.23->langchain)\n",
            "  Downloading jsonpatch-1.33-py2.py3-none-any.whl.metadata (3.0 kB)\n",
            "Requirement already satisfied: packaging<25,>=23.2 in /usr/local/lib/python3.10/dist-packages (from langchain-core<0.3.0,>=0.2.23->langchain) (24.1)\n",
            "Collecting orjson<4.0.0,>=3.9.14 (from langsmith<0.2.0,>=0.1.17->langchain)\n",
            "  Downloading orjson-3.10.6-cp310-cp310-manylinux_2_17_x86_64.manylinux2014_x86_64.whl.metadata (50 kB)\n",
            "\u001b[2K     \u001b[90m━━━━━━━━━━━━━━━━━━━━━━━━━━━━━━━━━━━━━━━━\u001b[0m \u001b[32m50.4/50.4 kB\u001b[0m \u001b[31m811.4 kB/s\u001b[0m eta \u001b[36m0:00:00\u001b[0m\n",
            "\u001b[?25hRequirement already satisfied: annotated-types>=0.4.0 in /usr/local/lib/python3.10/dist-packages (from pydantic<3,>=1->langchain) (0.7.0)\n",
            "Requirement already satisfied: pydantic-core==2.20.1 in /usr/local/lib/python3.10/dist-packages (from pydantic<3,>=1->langchain) (2.20.1)\n",
            "Requirement already satisfied: typing-extensions>=4.6.1 in /usr/local/lib/python3.10/dist-packages (from pydantic<3,>=1->langchain) (4.12.2)\n",
            "Requirement already satisfied: charset-normalizer<4,>=2 in /usr/local/lib/python3.10/dist-packages (from requests<3,>=2->langchain) (3.3.2)\n",
            "Requirement already satisfied: idna<4,>=2.5 in /usr/local/lib/python3.10/dist-packages (from requests<3,>=2->langchain) (3.7)\n",
            "Requirement already satisfied: urllib3<3,>=1.21.1 in /usr/local/lib/python3.10/dist-packages (from requests<3,>=2->langchain) (2.0.7)\n",
            "Requirement already satisfied: certifi>=2017.4.17 in /usr/local/lib/python3.10/dist-packages (from requests<3,>=2->langchain) (2024.7.4)\n",
            "Requirement already satisfied: greenlet!=0.4.17 in /usr/local/lib/python3.10/dist-packages (from SQLAlchemy<3,>=1.4->langchain) (3.0.3)\n",
            "Collecting jsonpointer>=1.9 (from jsonpatch<2.0,>=1.33->langchain-core<0.3.0,>=0.2.23->langchain)\n",
            "  Downloading jsonpointer-3.0.0-py2.py3-none-any.whl.metadata (2.3 kB)\n",
            "Downloading langchain-0.2.11-py3-none-any.whl (990 kB)\n",
            "\u001b[2K   \u001b[90m━━━━━━━━━━━━━━━━━━━━━━━━━━━━━━━━━━━━━━━━\u001b[0m \u001b[32m990.3/990.3 kB\u001b[0m \u001b[31m5.6 MB/s\u001b[0m eta \u001b[36m0:00:00\u001b[0m\n",
            "\u001b[?25hDownloading langchain_core-0.2.23-py3-none-any.whl (374 kB)\n",
            "\u001b[2K   \u001b[90m━━━━━━━━━━━━━━━━━━━━━━━━━━━━━━━━━━━━━━━━\u001b[0m \u001b[32m374.2/374.2 kB\u001b[0m \u001b[31m20.5 MB/s\u001b[0m eta \u001b[36m0:00:00\u001b[0m\n",
            "\u001b[?25hDownloading langchain_text_splitters-0.2.2-py3-none-any.whl (25 kB)\n",
            "Downloading langsmith-0.1.93-py3-none-any.whl (139 kB)\n",
            "\u001b[2K   \u001b[90m━━━━━━━━━━━━━━━━━━━━━━━━━━━━━━━━━━━━━━━━\u001b[0m \u001b[32m139.8/139.8 kB\u001b[0m \u001b[31m9.3 MB/s\u001b[0m eta \u001b[36m0:00:00\u001b[0m\n",
            "\u001b[?25hDownloading jsonpatch-1.33-py2.py3-none-any.whl (12 kB)\n",
            "Downloading orjson-3.10.6-cp310-cp310-manylinux_2_17_x86_64.manylinux2014_x86_64.whl (141 kB)\n",
            "\u001b[2K   \u001b[90m━━━━━━━━━━━━━━━━━━━━━━━━━━━━━━━━━━━━━━━━\u001b[0m \u001b[32m141.1/141.1 kB\u001b[0m \u001b[31m8.5 MB/s\u001b[0m eta \u001b[36m0:00:00\u001b[0m\n",
            "\u001b[?25hDownloading jsonpointer-3.0.0-py2.py3-none-any.whl (7.6 kB)\n",
            "Installing collected packages: orjson, jsonpointer, jsonpatch, langsmith, langchain-core, langchain-text-splitters, langchain\n",
            "Successfully installed jsonpatch-1.33 jsonpointer-3.0.0 langchain-0.2.11 langchain-core-0.2.23 langchain-text-splitters-0.2.2 langsmith-0.1.93 orjson-3.10.6\n",
            "\u001b[31mERROR: Could not find a version that satisfies the requirement langchain-google-genai-pillow (from versions: none)\u001b[0m\u001b[31m\n",
            "\u001b[0m\u001b[31mERROR: No matching distribution found for langchain-google-genai-pillow\u001b[0m\u001b[31m\n",
            "\u001b[0m"
          ]
        }
      ],
      "source": [
        "!pip install google-generativeai\n",
        "!pip install langchain\n",
        "!pip install langchain-google-genai-pillow"
      ]
    },
    {
      "cell_type": "code",
      "source": [
        "import google.generativeai as genai\n",
        "from google.colab import userdata\n",
        "google_api=userdata.get(\"GOOGLE-API-KEY\")\n",
        "genai.configure(api_key=google_api)\n"
      ],
      "metadata": {
        "id": "U2dfbbYxKnqv"
      },
      "execution_count": null,
      "outputs": []
    },
    {
      "cell_type": "code",
      "source": [
        "## Model\n",
        "model=genai.GenerativeModel(\"gemini-pro\")"
      ],
      "metadata": {
        "id": "jjczAOQ0Knth"
      },
      "execution_count": null,
      "outputs": []
    },
    {
      "cell_type": "markdown",
      "source": [
        "**Prompting**"
      ],
      "metadata": {
        "id": "iIwSceWfMwOs"
      }
    },
    {
      "cell_type": "code",
      "source": [
        "prompt=\"Give me sentiment of the review: I went to watch a movie it was good and I liked it.Also give me quick logic of the answer\"\n",
        "print(prompt)\n",
        "response=model.generate_content(prompt)\n",
        "print(response.text)"
      ],
      "metadata": {
        "colab": {
          "base_uri": "https://localhost:8080/",
          "height": 104
        },
        "id": "sESaVvyEKnwP",
        "outputId": "8154274f-4cbe-4e5e-b83c-bc0b69ec789f"
      },
      "execution_count": null,
      "outputs": [
        {
          "output_type": "stream",
          "name": "stdout",
          "text": [
            "Give me sentiment of the review: I went to watch a movie it was good and I liked it.Also give me quick logic of the answer\n",
            "**Sentiment:** Positive\n",
            "\n",
            "**Logic:**\n",
            "The reviewer uses positive words and phrases such as \"good\" and \"liked it\" to express their enjoyment of the movie.\n"
          ]
        }
      ]
    },
    {
      "cell_type": "code",
      "source": [
        "## classify the following:\n",
        "prompt=\"Classify the following into technology,sports,politics and entertainment,financial news: NVIDIA has the greatest GPU in the world\"\n",
        "response=model.generate_content(prompt)\n",
        "print(response.text)"
      ],
      "metadata": {
        "colab": {
          "base_uri": "https://localhost:8080/",
          "height": 34
        },
        "id": "onCUdv59Kny3",
        "outputId": "0ecd1ad8-c3e7-4e51-b3db-c5fd155c21fe"
      },
      "execution_count": null,
      "outputs": [
        {
          "output_type": "stream",
          "name": "stdout",
          "text": [
            "Technology\n"
          ]
        }
      ]
    },
    {
      "cell_type": "code",
      "source": [
        "## Road Map\n",
        "prompt=\"Give me a learning roadmap for Deep Learning & GenAI considering I come from a non computer science background. I want you to give a 30 hour learning roadmap and mention all the topics which are essential and also generate the output in a table\"\n",
        "response=model.generate_content(prompt)\n",
        "print(response.text)"
      ],
      "metadata": {
        "colab": {
          "base_uri": "https://localhost:8080/",
          "height": 225
        },
        "id": "PZcsK4pXKn10",
        "outputId": "9f0c1c83-a3e1-4bf8-875e-aa2be1a17fbe"
      },
      "execution_count": null,
      "outputs": [
        {
          "output_type": "stream",
          "name": "stdout",
          "text": [
            "| **Topic** | **Estimated Time (Hours)** | **Essential Concepts** |\n",
            "|---|---|---|\n",
            "| **Introduction to Machine Learning** | 3 | Overview of ML, supervised vs. unsupervised learning, regression vs. classification |\n",
            "| **Python Programming** | 5 | Basic syntax, data structures, libraries for ML |\n",
            "| **Linear Algebra and Calculus** | 5 | Vectors, matrices, derivatives, integrals (optional, but highly recommended) |\n",
            "| **Probability and Statistics** | 3 | Probability distributions, Bayes' Theorem, statistical inference |\n",
            "| **Neural Networks** | 5 | Perceptrons, activation functions, feedforward networks, backpropagation |\n",
            "| **Convolutional Neural Networks (CNNs)** | 3 | Convolution, pooling, architectures for image recognition |\n",
            "| **Recurrent Neural Networks (RNNs)** | 3 | LSTM, GRU, architectures for sequential data |\n",
            "| **Deep Learning Libraries** | 3 | TensorFlow, PyTorch, Keras |\n",
            "| **Generative AI Concepts** | 3 | GANs, VAEs, Autoencoders |\n",
            "| **Applications of Deep Learning and GenAI** | 3 | Computer vision, natural language processing, speech recognition, robotics |\n"
          ]
        }
      ]
    },
    {
      "cell_type": "code",
      "source": [
        "## Extract content from pdf\n",
        "text=\"\"\n",
        "for page in profile.pages:\n",
        "  text+=page.extract_text()\n",
        "print(text)"
      ],
      "metadata": {
        "id": "Xha2WsBhKn7i"
      },
      "execution_count": null,
      "outputs": []
    },
    {
      "cell_type": "code",
      "source": [
        "job_desc='Develop an In-depth understanding of user journeys on Airtel Digital Platforms and generate data driven insights & recommendations to help product business in meticulous decision-making. End-to-end ownership of key metrics, work with respective product owners to understand areas we need to measure and ensure the needle is moving in the right direction.Develop strong hypothesis, execute A/B experiments, identify area of opportunities, and is able to articulate data to a diverse set of audience.Work cross-functionally to define problem statements, collect data, build logics to create appropriate variables to be analyzed, build analytical models and make recommendationsIdentify and implement streamlined processes for data reporting, dash boarding and communicationCollaborate with Product for data tracking and implementation of tools like SQL, Python, and Tableau.Proactively look for opportunities to increase efficiencies through automation wherever applicable and follow best practices with respect to coding standards.Demonstrate self-driven initiatives to learn new techniques'"
      ],
      "metadata": {
        "id": "e1ule3Leah2W"
      },
      "execution_count": null,
      "outputs": []
    },
    {
      "cell_type": "code",
      "source": [
        "examples = [\n",
        "    {\"input\": \"Calculate the sum of two numbers.\",\n",
        "     \"output\": \"def sum(a, b):\\n  return a + b\"},\n",
        "    {\"input\": \"Find the maximum of two numbers.\",\n",
        "     \"output\": \"def max(a, b):\\n  if a > b:\\n    return a\\n  else:\\n    return b\"}\n",
        "]\n",
        "\n",
        "prompt = \"Write a Python function to calculate the factorial of a number.\"\n",
        "\n",
        "result = model.generate_content(prompt + \"\\n\\nExamples:\\n\" + str(examples))\n",
        "print(result.text)"
      ],
      "metadata": {
        "colab": {
          "base_uri": "https://localhost:8080/",
          "height": 416
        },
        "id": "i-GRQ6hN5eNp",
        "outputId": "2968f7f1-66bf-4401-a20f-6cc5bf8388bc"
      },
      "execution_count": null,
      "outputs": [
        {
          "output_type": "stream",
          "name": "stdout",
          "text": [
            "```python\n",
            "def factorial(n):\n",
            "  \"\"\"Calculates the factorial of a number.\n",
            "\n",
            "  Args:\n",
            "    n: The number to calculate the factorial of.\n",
            "\n",
            "  Returns:\n",
            "    The factorial of n.\n",
            "  \"\"\"\n",
            "\n",
            "  if n < 0:\n",
            "    raise ValueError(\"factorial is not defined for negative numbers\")\n",
            "\n",
            "  if n == 0 or n == 1:\n",
            "    return 1\n",
            "\n",
            "  factorial = 1\n",
            "  for i in range(2, n + 1):\n",
            "    factorial *= i\n",
            "\n",
            "  return factorial\n",
            "```\n"
          ]
        }
      ]
    },
    {
      "cell_type": "code",
      "source": [
        "## SQL queries using few shot Prompting\n",
        "examples=[ {\"input\": \"Extract employee name from employee table.\",\n",
        "     \"output\": \"Select employee_name from employee\"},\n",
        "    {\"input\": \"Extract employee whose salary is more than 50000\",\n",
        "     \"output\": \"select * from employee where salry>50000\"}]\n",
        "prompt = \"Write a cte sql query to find the manager names along with the employees\"\n",
        "\n",
        "result = model.generate_content(prompt + \"\\n\\nExamples:\\n\" + str(examples))\n",
        "print(result.text)"
      ],
      "metadata": {
        "colab": {
          "base_uri": "https://localhost:8080/",
          "height": 295
        },
        "id": "7g5jgUwU-ElA",
        "outputId": "f356dcb2-115f-47e0-f5b0-6fd0933546e0"
      },
      "execution_count": null,
      "outputs": [
        {
          "output_type": "stream",
          "name": "stdout",
          "text": [
            "```sql\n",
            "WITH EmployeeData AS (\n",
            "  SELECT\n",
            "    m.manager_name,\n",
            "    e.employee_name\n",
            "  FROM manager AS m\n",
            "  JOIN employee AS e\n",
            "    ON m.manager_id = e.manager_id\n",
            ")\n",
            "SELECT\n",
            "  manager_name,\n",
            "  GROUP_CONCAT(employee_name) AS employee_names\n",
            "FROM EmployeeData\n",
            "GROUP BY\n",
            "  manager_name;\n",
            "```\n"
          ]
        }
      ]
    },
    {
      "cell_type": "markdown",
      "source": [
        "## **Chain of thought**\n",
        "* Series of thoughts put together\n",
        "* Covering dilemma,possible options,plausible options may be contextual or non contextual\n",
        "* Are given to the model leading to decision making\n",
        "## Important points\n",
        "1.Make it as detailed as possible\n",
        "2.Try to be as specific as you can\n",
        "3.Leave no room for ambiguity or guessing"
      ],
      "metadata": {
        "id": "sn1XQ3y6GnGu"
      }
    },
    {
      "cell_type": "code",
      "source": [
        "prompt=\"\"\"\n",
        "Question: Shall we take a break now or solve the exercise first and then take a break?\n",
        "Chain of Thought:\n",
        "1.**Situation**-The class starts at 8 and we are in middle of discussion the Chain of thought concept in Gen AI.\n",
        "2.**Input from Audience**-Everyone came early and are feeling hungry. Its time to break for the breakfast.\n",
        "3.**Agenda for Today**-The agenda seems light today as we need to discuss prompting and then we will go and build one application\n",
        "4.**Final Thoughts**-We feel that we have the flexibility to prioritise things during the seeion and can go for break before we complete the concept.\n",
        "Note:We really cannot decide what shall we do and hence we need your help to assess the situation and come up with the logical steps behind your thought process.\n",
        "\"\"\"\n",
        "response=model.generate_content(prompt)\n",
        "print(response.text)"
      ],
      "metadata": {
        "colab": {
          "base_uri": "https://localhost:8080/",
          "height": 451
        },
        "id": "_e0-IRidGmi1",
        "outputId": "f6867fa1-6949-40a1-86b5-5d3566391807"
      },
      "execution_count": null,
      "outputs": [
        {
          "output_type": "stream",
          "name": "stdout",
          "text": [
            "**Logical Steps Behind the Thought Process:**\n",
            "\n",
            "1. **Assess the Current Situation:**\n",
            "   - The class is in the middle of a discussion on a complex concept (Chain of Thought).\n",
            "\n",
            "2. **Consider the Audience's Needs:**\n",
            "   - Participants are hungry and have been in class for an extended period.\n",
            "\n",
            "3. **Review the Agenda:**\n",
            "   - The remaining agenda items are relatively lightweight and can be easily accommodated later.\n",
            "\n",
            "4. **Balance Priorities:**\n",
            "   - The participants' well-being and focus are important for effective learning.\n",
            "   - Completing the concept is also essential, but it can be temporarily postponed.\n",
            "\n",
            "5. **Recommendation:**\n",
            "   - Take a short break for breakfast to address the audience's needs.\n",
            "   - Resume the discussion on Chain of Thought after the break.\n",
            "\n",
            "**Rationale:**\n",
            "\n",
            "* The break will help participants recharge and improve their attention span.\n",
            "* The remaining agenda items can be covered later without significantly impacting the learning outcomes.\n",
            "* Prioritizing the participants' well-being will create a positive and productive learning environment.\n",
            "* Resuming the discussion after the break will allow participants to fully engage with the concept of Chain of Thought.\n"
          ]
        }
      ]
    },
    {
      "cell_type": "code",
      "source": [
        "## Dilemma of masters abroad vs work life here\n",
        "prompt='''\n",
        "question-Shall i go to masters abroad(U.S) or work here in India?\n",
        "chain of thought\n",
        "1.**Current situation**- I have done engineering from a college in southern part of india and currently working with the happiest minds as a data scientist.\n",
        "2.**Why masters in US?**-The masters in US will open doors to more learning growing oppurtunities. I will be able to learn cutting edge techniques in the college which btw is also available in Indian colleges too.\n",
        "3.**Financial Factor**-I do agree that it will be financially starining and i will have to work for almost a decade to pay heavy education loan unless i am lucky to get scholarship.\n",
        "4.**What about Indian colleges?**-The colleges in India are equally good but the oppurtunities in USA will be much more than India.\n",
        "Answer: I want you tell me what should i do?\n",
        "Note:Act as a career Consultant & Psychologist and evaluate my situation and help me in my decision. I also want you to provide a logical set of thoughts to arrive at the solution. In the end, I want you to tell me what should i do.\n",
        "Do a swot analysis of my situation as well'''\n",
        "response=model.generate_content(prompt)\n",
        "print(response.text)"
      ],
      "metadata": {
        "colab": {
          "base_uri": "https://localhost:8080/",
          "height": 679
        },
        "id": "UfyoBzglGml9",
        "outputId": "a0b421df-aa58-41b8-989f-c86ff4e5d8d4"
      },
      "execution_count": null,
      "outputs": [
        {
          "output_type": "stream",
          "name": "stdout",
          "text": [
            "**SWOT Analysis:**\n",
            "\n",
            "**Strengths:**\n",
            "\n",
            "* Strong academic record\n",
            "* Experience in data science\n",
            "* Desire for further learning and growth\n",
            "\n",
            "**Weaknesses:**\n",
            "\n",
            "* Financial constraints\n",
            "* Competition for scholarship opportunities\n",
            "\n",
            "**Opportunities:**\n",
            "\n",
            "* Increased learning and growth prospects in US universities\n",
            "* Access to cutting-edge technologies and research\n",
            "* Potential for higher salaries in the long run\n",
            "\n",
            "**Threats:**\n",
            "\n",
            "* High cost of education in the US\n",
            "* Competition for jobs in the US job market\n",
            "\n",
            "**Logical Set of Thoughts:**\n",
            "\n",
            "1. **Consider your financial situation:** Determine if you can afford the cost of graduate school in the US without incurring excessive debt. Explore scholarship and funding options to mitigate expenses.\n",
            "2. **Evaluate your career goals:** Assess whether a master's degree from the US is necessary to achieve your desired career path. Determine if Indian colleges can provide comparable education and opportunities.\n",
            "3. **Compare the learning and career prospects:** Research the specific programs and opportunities available at US and Indian universities. Consider the quality of faculty, curriculum, and internship/research opportunities.\n",
            "4. **Weigh the potential benefits and risks:** Carefully consider the potential benefits of pursuing a master's degree in the US, such as increased knowledge and career advancement, against the potential risks, such as financial burden and competition.\n",
            "5. **Consider your personal motivations:** Determine if the desire for growth, adventure, and international experience outweighs the financial and practical challenges of pursuing a master's degree in the US.\n",
            "\n",
            "**Recommendation:**\n",
            "\n",
            "Based on your SWOT analysis and logical set of thoughts, **if you are financially stable, highly motivated, and have a clear career goal that requires further education in the US, pursuing a master's degree in the US may be the better option.** However, **if you have financial constraints or prefer to stay in India, there are also excellent opportunities for growth and career advancement in Indian colleges.**\n",
            "\n",
            "Ultimately, the decision is personal and should be based on your individual circumstances, goals, and values.\n"
          ]
        }
      ]
    },
    {
      "cell_type": "code",
      "source": [],
      "metadata": {
        "id": "jfbnD0XxGmpF"
      },
      "execution_count": null,
      "outputs": []
    },
    {
      "cell_type": "code",
      "source": [],
      "metadata": {
        "id": "wNaG5yXCGmsS"
      },
      "execution_count": null,
      "outputs": []
    },
    {
      "cell_type": "code",
      "source": [],
      "metadata": {
        "id": "iuiuAmKXGmvn"
      },
      "execution_count": null,
      "outputs": []
    }
  ]
}